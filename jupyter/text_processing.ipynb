{
 "cells": [
  {
   "cell_type": "code",
   "execution_count": 2,
   "metadata": {},
   "outputs": [],
   "source": [
    "import numpy as np\n",
    "import cv2"
   ]
  },
  {
   "cell_type": "code",
   "execution_count": 94,
   "metadata": {},
   "outputs": [],
   "source": [
    "#converting text to an ascii page\n",
    "\n",
    "width = 20\n",
    "height = 10\n",
    "\n",
    "\n",
    "##create a numpy array filled with space\n",
    "ascii_page = np.full((height,width),32,np.ubyte)\n",
    "\n",
    "#open file\n",
    "with open('/home/vic/Desktop/fyp/src/air_braille_ros/input.txt') as f:\n",
    "    \n",
    "    for iy,ix in np.ndindex(ascii_page.shape):\n",
    "    \n",
    "        c = f.read(1).lower()\n",
    "        if ord(c) < 32:\n",
    "            c = f.read(1).lower()\n",
    "        if not c:\n",
    "            print(\")End of file\")\n",
    "            break\n",
    "        ascii_page[iy,ix] = ord(c)\n",
    "            \n",
    "f.close()"
   ]
  },
  {
   "cell_type": "code",
   "execution_count": 73,
   "metadata": {},
   "outputs": [
    {
     "name": "stdout",
     "output_type": "stream",
     "text": [
      "[[ 97  99  99 111 114 100 105 110 103  32 116 111  32  97 108 108  32 107\n",
      "  110 111]\n",
      " [119 110  32 108  97 119 115  32 111 102  32  97 118 105  97 116 105 111\n",
      "  110  44]\n",
      " [ 32 116 104 101 114 101  32 105 115  32 110 111  32 119  97 121  32  97\n",
      "   32  98]\n",
      " [101 101  32 115 104 111 117 108 100  32  98 101  32  97  98 108 101  32\n",
      "  116 111]\n",
      " [ 32 102 108 121  46 105 116 115  32 119 105 110 103 115  32  97 114 101\n",
      "   32 116]\n",
      " [111 111  32 115 109  97 108 108  32 116 111  32 103 101 116  32 105 116\n",
      "  115  32]\n",
      " [102  97 116  32 108 105 116 116 108 101  32  98 111 100 121  32 111 102\n",
      "  102  32]\n",
      " [116 104 101  32 103 114 111 117 110 100  46 116 104 101  32  98 101 101\n",
      "   44  32]\n",
      " [111 102  32  99 111 117 114 115 101  44  32 102 108 105 101 115  32  97\n",
      "  110 121]\n",
      " [119  97 121  32  98 101  99  97 117 115 101  32  98 101 101 115  32 100\n",
      "  111 110]]\n"
     ]
    }
   ],
   "source": [
    "print(ascii_page)"
   ]
  },
  {
   "cell_type": "code",
   "execution_count": null,
   "metadata": {},
   "outputs": [],
   "source": [
    "print(ord(\" \"))"
   ]
  },
  {
   "cell_type": "code",
   "execution_count": 89,
   "metadata": {},
   "outputs": [],
   "source": [
    "pixels_per_char = 40\n",
    "img = np.zeros((pixels_per_char*height,pixels_per_char*width,3), dtype=np.uint8)\n",
    "img.fill(255)"
   ]
  },
  {
   "cell_type": "code",
   "execution_count": 90,
   "metadata": {},
   "outputs": [],
   "source": [
    "#draw vertical lines\n",
    "\n",
    "for i in range(width+1):\n",
    "    point_top = (pixels_per_char*i-1, 0)\n",
    "    point_bottom = (pixels_per_char*i-1, pixels_per_char*height)\n",
    "    img = cv2.line(img,point_top, point_bottom, 0,2)\n",
    "\n"
   ]
  },
  {
   "cell_type": "code",
   "execution_count": 91,
   "metadata": {},
   "outputs": [],
   "source": [
    "#draw horizontal lines\n",
    "for i in range(height+1):\n",
    "    point_left = (0, pixels_per_char*i-1)\n",
    "    point_right = (width*pixels_per_char, pixels_per_char*i-1)\n",
    "    img = cv2.line(img,point_left, point_right, 0,2)"
   ]
  },
  {
   "cell_type": "code",
   "execution_count": 92,
   "metadata": {},
   "outputs": [],
   "source": [
    "for iy,ix in np.ndindex(ascii_page.shape):\n",
    "\n",
    "    #origin = (ix*pixels_per_char+10,iy*pixels_per_char+30)\n",
    "    character = chr(ascii_page[iy,ix])\n",
    "\n",
    "    textsize = cv2.getTextSize(character, cv2.FONT_HERSHEY_SIMPLEX, 1, 2)[0]\n",
    "    textX = int((pixels_per_char-textsize[0])/2 + ix*pixels_per_char)\n",
    "    textY = int((pixels_per_char + textsize[1])/2 + iy*pixels_per_char)\n",
    "\n",
    "    img = cv2.putText(img, character,(textX,textY), cv2.FONT_HERSHEY_SIMPLEX,1,0,2,cv2.LINE_AA)\n",
    "\n"
   ]
  },
  {
   "cell_type": "markdown",
   "metadata": {},
   "source": []
  },
  {
   "cell_type": "code",
   "execution_count": 93,
   "metadata": {},
   "outputs": [],
   "source": [
    "cv2.imshow('image',img)\n",
    "cv2.waitKey(0)\n",
    "cv2.destroyAllWindows()"
   ]
  },
  {
   "cell_type": "code",
   "execution_count": null,
   "metadata": {},
   "outputs": [],
   "source": []
  },
  {
   "cell_type": "code",
   "execution_count": null,
   "metadata": {},
   "outputs": [],
   "source": []
  },
  {
   "cell_type": "code",
   "execution_count": null,
   "metadata": {},
   "outputs": [],
   "source": []
  },
  {
   "cell_type": "code",
   "execution_count": null,
   "metadata": {},
   "outputs": [],
   "source": []
  },
  {
   "cell_type": "code",
   "execution_count": null,
   "metadata": {},
   "outputs": [],
   "source": []
  },
  {
   "cell_type": "code",
   "execution_count": null,
   "metadata": {},
   "outputs": [],
   "source": []
  },
  {
   "cell_type": "code",
   "execution_count": null,
   "metadata": {},
   "outputs": [],
   "source": []
  },
  {
   "cell_type": "code",
   "execution_count": null,
   "metadata": {},
   "outputs": [],
   "source": [
    "print(lines)"
   ]
  },
  {
   "cell_type": "code",
   "execution_count": null,
   "metadata": {},
   "outputs": [],
   "source": []
  },
  {
   "cell_type": "code",
   "execution_count": null,
   "metadata": {},
   "outputs": [],
   "source": []
  },
  {
   "cell_type": "code",
   "execution_count": null,
   "metadata": {},
   "outputs": [],
   "source": []
  },
  {
   "cell_type": "code",
   "execution_count": null,
   "metadata": {},
   "outputs": [],
   "source": []
  }
 ],
 "metadata": {
  "interpreter": {
   "hash": "916dbcbb3f70747c44a77c7bcd40155683ae19c65e1c03b4aa3499c5328201f1"
  },
  "kernelspec": {
   "display_name": "Python 3.8.10 64-bit",
   "language": "python",
   "name": "python3"
  },
  "language_info": {
   "codemirror_mode": {
    "name": "ipython",
    "version": 3
   },
   "file_extension": ".py",
   "mimetype": "text/x-python",
   "name": "python",
   "nbconvert_exporter": "python",
   "pygments_lexer": "ipython3",
   "version": "3.8.10"
  },
  "orig_nbformat": 4
 },
 "nbformat": 4,
 "nbformat_minor": 2
}
