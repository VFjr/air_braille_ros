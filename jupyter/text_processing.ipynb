{
 "cells": [
  {
   "cell_type": "code",
   "execution_count": 8,
   "metadata": {},
   "outputs": [],
   "source": [
    "import numpy as np\n",
    "import cv2"
   ]
  },
  {
   "cell_type": "code",
   "execution_count": 15,
   "metadata": {},
   "outputs": [],
   "source": [
    "#converting text to an ascii page\n",
    "\n",
    "width = 12\n",
    "height = 7\n",
    "\n",
    "pixels_per_char = 100\n",
    "horizontal_spacer_pixels = 30\n",
    "vertical_spacer_pixels = 80\n",
    "\n",
    "\n",
    "##create a numpy array filled with space\n",
    "ascii_page = np.full((height,width),32,np.ubyte)\n",
    "\n",
    "#open file\n",
    "with open('/home/vic/Desktop/fyp/src/air_braille_ros/input.txt') as f:\n",
    "    \n",
    "    for iy,ix in np.ndindex(ascii_page.shape):\n",
    "    \n",
    "        c = f.read(1).lower()\n",
    "        if ord(c) < 32:\n",
    "            c = f.read(1).lower()\n",
    "        if not c:\n",
    "            print(\")End of file\")\n",
    "            break\n",
    "        ascii_page[iy,ix] = ord(c)\n",
    "            \n",
    "f.close()"
   ]
  },
  {
   "cell_type": "code",
   "execution_count": 6,
   "metadata": {},
   "outputs": [
    {
     "name": "stdout",
     "output_type": "stream",
     "text": [
      "[[116 104 101  32 113 117 105  99 107  32  98 114 111 119 110  32 102 111\n",
      "  120  32]\n",
      " [106 117 109 112 115  32 111 118 101 114  32 116 104 101  32 108  97 122\n",
      "  121  32]\n",
      " [100 111 103  32  32  32  32  32  32  32  32  32  32  32  32  32  32  32\n",
      "   32  32]\n",
      " [ 32  32  32  32  32  32  32  32  32  32  32  32  32  32  32  32  32  32\n",
      "   32  32]\n",
      " [ 32  32  32  32  32  32  32  32  32  32  32  32  32  32  32  32  32  32\n",
      "   32  32]\n",
      " [ 32  32  32  32  32  32  32  32  32  32  32  32  32  32  32  32  32  32\n",
      "   32  32]\n",
      " [ 32  32  32  32  32  32  32  32  32  32  32  32  32  32  32  32  32  32\n",
      "   32  32]\n",
      " [ 32  32  32  32  32  32  32  32  32  32  32  32  32  32  32  32  32  32\n",
      "   32  32]\n",
      " [ 32  32  32  32  32  32  32  32  32  32  32  32  32  32  32  32  32  32\n",
      "   32  32]\n",
      " [ 32  32  32  32  32  32  32  32  32  32  32  32  32  32  32  32  32  32\n",
      "   32  32]]\n"
     ]
    }
   ],
   "source": [
    "print(ascii_page)"
   ]
  },
  {
   "cell_type": "code",
   "execution_count": 7,
   "metadata": {},
   "outputs": [
    {
     "name": "stdout",
     "output_type": "stream",
     "text": [
      "32\n"
     ]
    }
   ],
   "source": [
    "print(ord(\" \"))"
   ]
  },
  {
   "cell_type": "code",
   "execution_count": 16,
   "metadata": {},
   "outputs": [],
   "source": [
    "total_height_in_pixels = pixels_per_char*height+vertical_spacer_pixels*(height-1)\n",
    "total_width_in_pixels = pixels_per_char*width+horizontal_spacer_pixels*(width-1)\n",
    "\n",
    "\n",
    "img = np.zeros((total_height_in_pixels,total_width_in_pixels,3), dtype=np.uint8)\n",
    "img.fill(255)"
   ]
  },
  {
   "cell_type": "code",
   "execution_count": 17,
   "metadata": {},
   "outputs": [],
   "source": [
    "#draw vertical rectangles\n",
    "\n",
    "for i in range(width-1):\n",
    "    point_start = (pixels_per_char*(i+1) + horizontal_spacer_pixels * i, 0)\n",
    "    point_end = (pixels_per_char*(i+1)+horizontal_spacer_pixels * (i+1), total_height_in_pixels)\n",
    "    img = cv2.rectangle(img, point_start, point_end, (200,200,200), -1)\n",
    "\n"
   ]
  },
  {
   "cell_type": "code",
   "execution_count": 18,
   "metadata": {},
   "outputs": [],
   "source": [
    "#draw horizontal rectangles\n",
    "\n",
    "for i in range(height-1):\n",
    "    point_start = (0, pixels_per_char*(i+1) + vertical_spacer_pixels * i)\n",
    "    point_end = (total_width_in_pixels, pixels_per_char*(i+1)+vertical_spacer_pixels * (i+1))\n",
    "    img = cv2.rectangle(img, point_start, point_end, (150,150,150), -1)\n",
    "\n",
    "\n",
    "\n",
    "\n"
   ]
  },
  {
   "cell_type": "code",
   "execution_count": 19,
   "metadata": {},
   "outputs": [],
   "source": [
    "#draw text\n",
    "for iy,ix in np.ndindex(ascii_page.shape):\n",
    "\n",
    "    #origin = (ix*pixels_per_char+10,iy*pixels_per_char+30)\n",
    "    character = chr(ascii_page[iy,ix])\n",
    "\n",
    "    textsize = cv2.getTextSize(character, cv2.FONT_HERSHEY_SIMPLEX, 1, 2)[0]\n",
    "    textX = int((pixels_per_char-textsize[0])/2 + ix*pixels_per_char + ix * horizontal_spacer_pixels)\n",
    "    textY = int((pixels_per_char + textsize[1])/2 + iy*pixels_per_char + iy*vertical_spacer_pixels)\n",
    "\n",
    "    img = cv2.putText(img, character,(textX,textY), cv2.FONT_HERSHEY_SIMPLEX,1,0,2,cv2.LINE_AA)\n",
    "\n"
   ]
  },
  {
   "cell_type": "code",
   "execution_count": 22,
   "metadata": {},
   "outputs": [],
   "source": []
  },
  {
   "cell_type": "markdown",
   "metadata": {},
   "source": []
  },
  {
   "cell_type": "code",
   "execution_count": 20,
   "metadata": {},
   "outputs": [],
   "source": [
    "cv2.imshow('image',img)\n",
    "cv2.waitKey(0)\n",
    "cv2.destroyAllWindows()"
   ]
  },
  {
   "cell_type": "code",
   "execution_count": null,
   "metadata": {},
   "outputs": [],
   "source": []
  },
  {
   "cell_type": "code",
   "execution_count": null,
   "metadata": {},
   "outputs": [],
   "source": []
  },
  {
   "cell_type": "code",
   "execution_count": null,
   "metadata": {},
   "outputs": [],
   "source": []
  },
  {
   "cell_type": "code",
   "execution_count": null,
   "metadata": {},
   "outputs": [],
   "source": []
  },
  {
   "cell_type": "code",
   "execution_count": null,
   "metadata": {},
   "outputs": [],
   "source": []
  },
  {
   "cell_type": "code",
   "execution_count": null,
   "metadata": {},
   "outputs": [],
   "source": []
  },
  {
   "cell_type": "code",
   "execution_count": null,
   "metadata": {},
   "outputs": [],
   "source": []
  },
  {
   "cell_type": "code",
   "execution_count": null,
   "metadata": {},
   "outputs": [],
   "source": [
    "print(lines)"
   ]
  },
  {
   "cell_type": "code",
   "execution_count": null,
   "metadata": {},
   "outputs": [],
   "source": []
  },
  {
   "cell_type": "code",
   "execution_count": null,
   "metadata": {},
   "outputs": [],
   "source": []
  },
  {
   "cell_type": "code",
   "execution_count": null,
   "metadata": {},
   "outputs": [],
   "source": []
  },
  {
   "cell_type": "code",
   "execution_count": null,
   "metadata": {},
   "outputs": [],
   "source": []
  }
 ],
 "metadata": {
  "interpreter": {
   "hash": "916dbcbb3f70747c44a77c7bcd40155683ae19c65e1c03b4aa3499c5328201f1"
  },
  "kernelspec": {
   "display_name": "Python 3.8.10 64-bit",
   "language": "python",
   "name": "python3"
  },
  "language_info": {
   "codemirror_mode": {
    "name": "ipython",
    "version": 3
   },
   "file_extension": ".py",
   "mimetype": "text/x-python",
   "name": "python",
   "nbconvert_exporter": "python",
   "pygments_lexer": "ipython3",
   "version": "3.8.10"
  },
  "orig_nbformat": 4
 },
 "nbformat": 4,
 "nbformat_minor": 2
}
